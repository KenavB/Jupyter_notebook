{
 "cells": [
  {
   "cell_type": "markdown",
   "id": "a9410daf-b114-420a-a76a-b26da482fd2c",
   "metadata": {},
   "source": [
    "# Data Science Tools and Ecosystem"
   ]
  },
  {
   "cell_type": "markdown",
   "id": "383b9728-2ffb-46b7-9419-640288512426",
   "metadata": {},
   "source": [
    "In this notebook, Data Science Tools and Ecosystem are summarized."
   ]
  },
  {
   "cell_type": "markdown",
   "id": "41c10fe4-82e4-4c6f-877c-170f215d2b5f",
   "metadata": {},
   "source": [
    "**Objectives:**\n",
    "\n",
    "1. List popular languages for Data Science\n",
    "2. Commonly used libraries used by Data Scientists\n",
    "3. Data Science Tools\n",
    "4. Examples of evaluating arithmetic expressions in Python"
   ]
  },
  {
   "cell_type": "markdown",
   "id": "dc62da3e-83ad-4ce5-bdd2-077ec406a006",
   "metadata": {},
   "source": [
    "Some of the popular languages that Data Scientists use are:\n",
    "\n",
    "1. Python\n",
    "2. R\n",
    "3. SQL"
   ]
  },
  {
   "cell_type": "markdown",
   "id": "ae101f5e-dc32-4dea-802b-807108cbd886",
   "metadata": {},
   "source": [
    "Some of the commonly used libraries used by Data Scientists include:\n",
    "\n",
    "1. TensorFlow\n",
    "2. NumPy\n",
    "3. SciPy\n",
    "4. Pandas"
   ]
  },
  {
   "cell_type": "markdown",
   "id": "883980ff-5186-4559-ac82-23dcfcc4d466",
   "metadata": {},
   "source": [
    "| Data Science Tools |\n",
    "|:--------|\n",
    "| Jupyter Lab |\n",
    "| R Studio |\n",
    "| VS Studio |"
   ]
  },
  {
   "cell_type": "markdown",
   "id": "e1f325dd-1f3b-4a90-8499-f6522a9156df",
   "metadata": {},
   "source": [
    "### Below are a few examples of evaluating arithmetic expressions in Python"
   ]
  },
  {
   "cell_type": "code",
   "execution_count": 22,
   "id": "de796a21-d77b-4082-b2b5-af2dadb451c4",
   "metadata": {},
   "outputs": [
    {
     "data": {
      "text/plain": [
       "17"
      ]
     },
     "execution_count": 22,
     "metadata": {},
     "output_type": "execute_result"
    }
   ],
   "source": [
    "# This a simple arithmetic expression to mutiply then add integers\n",
    "\n",
    "(3*4)+5"
   ]
  },
  {
   "cell_type": "code",
   "execution_count": 33,
   "id": "3ff01d20-e94c-4aa3-b572-d5f4aea993ac",
   "metadata": {},
   "outputs": [
    {
     "data": {
      "text/plain": [
       "3.3333333333333335"
      ]
     },
     "execution_count": 33,
     "metadata": {},
     "output_type": "execute_result"
    }
   ],
   "source": [
    "#  This will convert 200 minutes to hours by diving by 60\n",
    "\n",
    "200/60"
   ]
  },
  {
   "cell_type": "markdown",
   "id": "06aac3f0-efeb-437c-9c43-faca2fecfcc7",
   "metadata": {},
   "source": [
    "## Author\n",
    "Gwenn LE GOFF"
   ]
  },
  {
   "cell_type": "code",
   "execution_count": null,
   "id": "68369fe2-b58e-4426-b3aa-3e27a6db48e9",
   "metadata": {},
   "outputs": [],
   "source": []
  }
 ],
 "metadata": {
  "kernelspec": {
   "display_name": "Python 3 (ipykernel)",
   "language": "python",
   "name": "python3"
  },
  "language_info": {
   "codemirror_mode": {
    "name": "ipython",
    "version": 3
   },
   "file_extension": ".py",
   "mimetype": "text/x-python",
   "name": "python",
   "nbconvert_exporter": "python",
   "pygments_lexer": "ipython3",
   "version": "3.12.4"
  }
 },
 "nbformat": 4,
 "nbformat_minor": 5
}
